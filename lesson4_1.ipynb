{
 "cells": [
  {
   "cell_type": "code",
   "execution_count": 1,
   "metadata": {},
   "outputs": [
    {
     "data": {
      "text/plain": [
       "3.142"
      ]
     },
     "execution_count": 1,
     "metadata": {},
     "output_type": "execute_result"
    }
   ],
   "source": [
    "round(3.1415867,ndigits=3)\n"
   ]
  },
  {
   "cell_type": "code",
   "execution_count": 2,
   "metadata": {},
   "outputs": [
    {
     "name": "stdout",
     "output_type": "stream",
     "text": [
      "輸入格式有錯誤\n"
     ]
    }
   ],
   "source": [
    "try:\n",
    "    score = int(input(\"請輸入學生分數(最高300分):\"))\n",
    "    print(f'分數是{score}')\n",
    "except:\n",
    "    print(\"輸入格式有錯誤\")"
   ]
  },
  {
   "cell_type": "code",
   "execution_count": 18,
   "metadata": {},
   "outputs": [
    {
     "ename": "IndentationError",
     "evalue": "unindent does not match any outer indentation level (<tokenize>, line 12)",
     "output_type": "error",
     "traceback": [
      "\u001b[0;36m  File \u001b[0;32m<tokenize>:12\u001b[0;36m\u001b[0m\n\u001b[0;31m    grade = '丙'\u001b[0m\n\u001b[0m    ^\u001b[0m\n\u001b[0;31mIndentationError\u001b[0m\u001b[0;31m:\u001b[0m unindent does not match any outer indentation level\n"
     ]
    }
   ],
   "source": [
    "score = int(input(\"請輸入學生分數0~100\"))\n",
    "if score >=90:\n",
    "    grade='優'\n",
    "else:\n",
    "  if score >=80:\n",
    "        grade='甲'\n",
    "  else:\n",
    "      if score >=70:\n",
    "        grade = '乙'\n",
    "      else:\n",
    "         if score >=60:\n",
    "       grade = '丙'\n",
    "         else:\n",
    "            if score >=50\n",
    "              grade = '丁'\n",
    "print(f\"學生等級是:{grade}\")"
   ]
  },
  {
   "cell_type": "code",
   "execution_count": 20,
   "metadata": {},
   "outputs": [
    {
     "name": "stdout",
     "output_type": "stream",
     "text": [
      "學生等級是:優\n"
     ]
    }
   ],
   "source": [
    "score = int(input(\"請輸入學生分數0~100\"))\n",
    "grade = \"\"\n",
    "\n",
    "if score >= 90:\n",
    "    grade = '優'\n",
    "else:\n",
    "    if score >= 80:\n",
    "        grade = '甲'\n",
    "    else:\n",
    "        if score >= 70:\n",
    "            grade = '乙'\n",
    "        else:\n",
    "            if score >= 60:\n",
    "                grade = '丙'\n",
    "            else:\n",
    "                grade = '丁'\n",
    "                print(\"第4層\")\n",
    "            print(\"第3層\")\n",
    "        print(\"第2層\")\n",
    "    print(\"第1層\")\n",
    "\n",
    "print(f\"學生等級是:{grade}\")"
   ]
  },
  {
   "cell_type": "code",
   "execution_count": 24,
   "metadata": {},
   "outputs": [
    {
     "name": "stdout",
     "output_type": "stream",
     "text": [
      "學生等級是:優\n"
     ]
    }
   ],
   "source": [
    "#下列為換算成績等級的程式碼，換算的規則如下：\n",
    "\n",
    "# 90(含)~100分為「優」\n",
    "# 80(含)~89分為「甲」\n",
    "# 70(含)~79分為「乙」\n",
    "# 60(含)~69分為「丙」\n",
    "# 0(含)~59分為「丁」\n",
    "\n",
    "score = int(input(\"請輸入學生分數0~100\"))\n",
    "grade = \"\"\n",
    "\n",
    "#多項選擇\n",
    "if score >= 90:\n",
    "    grade = '優'\n",
    "elif score >= 80:    \n",
    "    grade = '甲'\n",
    "    print(\"第1層\")\n",
    "elif score >= 70:         \n",
    "    grade = '乙'\n",
    "    print(\"第2層\")\n",
    "elif score >= 60:\n",
    "    grade = '丙'\n",
    "    print(\"第3層\")\n",
    "else:\n",
    "    grade = '丁'\n",
    "    print(\"第4層\")\n",
    "\n",
    "print(f\"學生等級是:{grade}\")"
   ]
  },
  {
   "cell_type": "code",
   "execution_count": 34,
   "metadata": {},
   "outputs": [
    {
     "name": "stdout",
     "output_type": "stream",
     "text": [
      "root=1.260\n"
     ]
    }
   ],
   "source": [
    "x = int(input(\"請輸入x的整數:\"))\n",
    "y = int(input(\"請輸入y的整數(y不可以是0):\"))\n",
    "root = 0\n",
    "if x >= 0:\n",
    "    root = x ** (1/y)\n",
    "elif x % 2 == 0:\n",
    "    root = 0\n",
    "else:\n",
    "    root = -(-x)**(1 / y)\n",
    "print(f\"root={root:.3f}\")"
   ]
  },
  {
   "cell_type": "code",
   "execution_count": 37,
   "metadata": {},
   "outputs": [
    {
     "name": "stdout",
     "output_type": "stream",
     "text": [
      "root=1.260\n"
     ]
    }
   ],
   "source": [
    "try:\n",
    "    x = int(input(\"請輸入x的整數:\"))\n",
    "    y = int(input(\"請輸入y的整數(y不可以是0):\"))\n",
    "    root = 0\n",
    "    if x >= 0:\n",
    "        root = x ** (1/y)\n",
    "    elif x % 2 == 0:\n",
    "        root = 0\n",
    "    else:\n",
    "        root = -(-x)**(1 / y)\n",
    "    print(f\"root={root:.3f}\")\n",
    "except:\n",
    "    print(\"格式錯誤\")\n",
    "    "
   ]
  },
  {
   "cell_type": "code",
   "execution_count": 48,
   "metadata": {},
   "outputs": [
    {
     "name": "stdout",
     "output_type": "stream",
     "text": [
      "輸入x格式錯誤\n"
     ]
    }
   ],
   "source": [
    "try:\n",
    "    x = int(input(\"請輸入x的整數:\"))\n",
    "except:\n",
    "    print(\"輸入x格式錯誤\")\n",
    "else:\n",
    "    try:\n",
    "        y = int(input(\"請輸入y的整數(y不可以是0):\"))\n",
    "        root = 0\n",
    "        if x >= 0:\n",
    "            root = x ** (1/y)\n",
    "        elif x % 2 == 0:\n",
    "            root = 0\n",
    "        else:\n",
    "            root = -(-x)**(1 / y)\n",
    "        \n",
    "        print(f\"root={root:.3f}\")\n",
    "        \n",
    "    except:\n",
    "        print(\"輸入y格式錯誤\")"
   ]
  },
  {
   "cell_type": "code",
   "execution_count": 46,
   "metadata": {},
   "outputs": [
    {
     "name": "stdout",
     "output_type": "stream",
     "text": [
      "輸入y的格式錯誤\n"
     ]
    }
   ],
   "source": [
    "try:\n",
    "    x = int(input(\"請輸入x的整數:\"))    \n",
    "except:\n",
    "    print(\"輸入x的格式錯誤\")\n",
    "else:\n",
    "    try:\n",
    "        y = int(input(\"請輸入y的整數(y不可以是0):\"))\n",
    "        root = 0\n",
    "        if x >= 0:\n",
    "            root = x ** (1/y)\n",
    "        elif x % 2 == 0:    \n",
    "            root = 0\n",
    "        else:\n",
    "            root = -(-x) ** (1 / y) \n",
    "\n",
    "        print(f\"root={root}\")\n",
    "    except:\n",
    "        print(\"輸入y的格式錯誤\")"
   ]
  },
  {
   "cell_type": "code",
   "execution_count": 54,
   "metadata": {},
   "outputs": [
    {
     "name": "stdout",
     "output_type": "stream",
     "text": [
      "實付金額是:987654.0元\n"
     ]
    }
   ],
   "source": [
    "#輸入顧客購買金額，若金額在\n",
    "#100000元打8折. \n",
    "#50000打85折. \n",
    "#30000打9折. \n",
    "#10000打95折. \n",
    "\n",
    "#請輸入購買金額:130000\n",
    "#實付金額是: 104000.0 元\n",
    "import math\n",
    "\n",
    "money = int(input(\"請輸入購買金額:\"))\n",
    "pay_money = 0\n",
    "if money < 10000:\n",
    "    pay_money = money\n",
    "elif money < 30000:\n",
    "    pay_money = money * 0.95\n",
    "elif money < 50000:\n",
    "    pay_money = money * 0.9\n",
    "elif money < 100000:\n",
    "    pay_money = money * 0.85\n",
    "else:\n",
    "    pay_money = money *0.8\n",
    "    \n",
    "print(f\"實付金額是:{math.ceil(pay_money):.1f}元\")\n"
   ]
  },
  {
   "cell_type": "code",
   "execution_count": 60,
   "metadata": {},
   "outputs": [
    {
     "name": "stdout",
     "output_type": "stream",
     "text": [
      "學生獎金:500\n"
     ]
    }
   ],
   "source": [
    "#國文100分 同時數學100分, 獎金1000\n",
    "#國文100分,或數學100分,獎金500\n",
    "#其餘獎金0\n",
    "\n",
    "chinese = int(input(\"請輸入國文分數\"))\n",
    "math = int(input(\"請輸入數學分數\"))\n",
    "bonus = 0\n",
    "if chinese == 100:\n",
    " if math ==100:\n",
    "    bonus = 1000\n",
    " else:\n",
    "    bonus = 500\n",
    "elif math == 100:\n",
    "     bonus = 500\n",
    "\n",
    "print(f\"學生獎金:{bonus}\")\n"
   ]
  },
  {
   "cell_type": "code",
   "execution_count": 65,
   "metadata": {},
   "outputs": [
    {
     "name": "stdout",
     "output_type": "stream",
     "text": [
      "學生獎金:500\n"
     ]
    }
   ],
   "source": [
    "chinese = int(input(\"請輸入國文分數\"))\n",
    "math= int(input(\"請輸入數學分數\"))\n",
    "bonus=0\n",
    "\n",
    "if (chinese==100) and (math==100):\n",
    "    bonus =1000\n",
    "\n",
    "elif (chinese==100) or (math==100):\n",
    "    bonus=500\n",
    "print(f\"學生獎金:{bonus}\")"
   ]
  },
  {
   "cell_type": "code",
   "execution_count": 67,
   "metadata": {},
   "outputs": [
    {
     "name": "stdout",
     "output_type": "stream",
     "text": [
      "不在351~400之間\n"
     ]
    }
   ],
   "source": [
    "num = int(input(\"請輸入號碼:\"))\n",
    "if num >=351 and num <=400:\n",
    "    print(\"351~400之間\")\n",
    "else :\n",
    "    print(\"不在351~400之間\")\n",
    "    \n",
    "    "
   ]
  },
  {
   "cell_type": "code",
   "execution_count": 68,
   "metadata": {},
   "outputs": [
    {
     "name": "stdout",
     "output_type": "stream",
     "text": [
      "351~400之間\n"
     ]
    }
   ],
   "source": [
    "num = int (input(\"請輸入號碼:\"))\n",
    "if num <350 or num>400:\n",
    "    print(\"不在351~400之間\")\n",
    "else:\n",
    "    print (\"351~400之間\")\n",
    "    "
   ]
  }
 ],
 "metadata": {
  "kernelspec": {
   "display_name": "Python 3",
   "language": "python",
   "name": "python3"
  },
  "language_info": {
   "codemirror_mode": {
    "name": "ipython",
    "version": 3
   },
   "file_extension": ".py",
   "mimetype": "text/x-python",
   "name": "python",
   "nbconvert_exporter": "python",
   "pygments_lexer": "ipython3",
   "version": "3.10.12"
  },
  "orig_nbformat": 4
 },
 "nbformat": 4,
 "nbformat_minor": 2
}
