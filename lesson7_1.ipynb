{
 "cells": [
  {
   "cell_type": "code",
   "execution_count": 1,
   "metadata": {},
   "outputs": [
    {
     "name": "stdout",
     "output_type": "stream",
     "text": [
      "1\n",
      "2\n",
      "3\n",
      "4\n",
      "5\n"
     ]
    }
   ],
   "source": [
    "#while,明確知道執行幾次\n",
    "i=1\n",
    "while i<6:\n",
    "    print(i)\n",
    "    i +=1\n"
   ]
  },
  {
   "cell_type": "code",
   "execution_count": 4,
   "metadata": {},
   "outputs": [
    {
     "name": "stdout",
     "output_type": "stream",
     "text": [
      "恭喜!存夠囉, 存了3個月份,共存了36211元\n"
     ]
    }
   ],
   "source": [
    "#小明想存錢,買機車,機車\n",
    "\n",
    "moto=30000\n",
    "deposit = 0\n",
    "count=0\n",
    "while deposit < moto :\n",
    "    count +=1\n",
    "    month_value = int(input(f'請輸入第{count}月份存款:'))\n",
    "    deposit += month_value\n",
    "\n",
    "print(f\"恭喜!存夠囉, 存了{count}個月份,共存了{deposit}元\")\n",
    "      \n",
    "      "
   ]
  },
  {
   "cell_type": "code",
   "execution_count": 5,
   "metadata": {},
   "outputs": [
    {
     "name": "stdout",
     "output_type": "stream",
     "text": [
      "Taiwan\n",
      "程式結束\n"
     ]
    }
   ],
   "source": [
    "while True:\n",
    "    stuff = input(\"請輸入小寫的英文字母[按q會離開]:\")\n",
    "    if stuff ==\"q\":\n",
    "        break\n",
    "    print(stuff.capitalize())\n",
    "\n",
    "    print(\"程式結束\")\n",
    "    "
   ]
  },
  {
   "cell_type": "code",
   "execution_count": 9,
   "metadata": {},
   "outputs": [
    {
     "name": "stdout",
     "output_type": "stream",
     "text": [
      "正偶數值的加總是8\n",
      "程式結束\n"
     ]
    }
   ],
   "source": [
    "#請使用者輸入數值後,只有加總正偶數,不加總正奇數值，如果輸入負值結束程式\n",
    "even_total=0\n",
    "while True:\n",
    "    input_num = int(input(\"請輸入數值:\"))\n",
    "    if input_num <0:\n",
    "        break\n",
    "    elif input_num % 2 ==1:\n",
    "        continue\n",
    "    else:\n",
    "        even_total += input_num\n",
    "\n",
    "print(f\"正偶數值的加總是{even_total}\")\n",
    "print(\"程式結束\")"
   ]
  },
  {
   "cell_type": "code",
   "execution_count": 10,
   "metadata": {},
   "outputs": [
    {
     "data": {
      "text/plain": [
       "2"
      ]
     },
     "execution_count": 10,
     "metadata": {},
     "output_type": "execute_result"
    }
   ],
   "source": [
    "import random\n",
    "random.randrange(5)"
   ]
  },
  {
   "cell_type": "code",
   "execution_count": 19,
   "metadata": {},
   "outputs": [
    {
     "data": {
      "text/plain": [
       "1"
      ]
     },
     "execution_count": 19,
     "metadata": {},
     "output_type": "execute_result"
    }
   ],
   "source": [
    "random.randint(1,10)\n",
    "\n"
   ]
  },
  {
   "cell_type": "code",
   "execution_count": 24,
   "metadata": {},
   "outputs": [
    {
     "data": {
      "text/plain": [
       "2"
      ]
     },
     "execution_count": 24,
     "metadata": {},
     "output_type": "execute_result"
    }
   ],
   "source": [
    "random.randrange(1,3)\n"
   ]
  },
  {
   "cell_type": "code",
   "execution_count": null,
   "metadata": {},
   "outputs": [],
   "source": []
  },
  {
   "cell_type": "code",
   "execution_count": 27,
   "metadata": {},
   "outputs": [
    {
     "name": "stdout",
     "output_type": "stream",
     "text": [
      "============猜數字=======\n",
      "\n",
      "\n",
      "再大一點\n",
      "您已經猜了1次\n",
      "再大一點\n",
      "您已經猜了2次\n",
      "再小一點\n",
      "您已經猜了3次\n",
      "再大一點\n",
      "您已經猜了4次\n",
      "再大一點\n",
      "您已經猜了5次\n",
      "賓果!猜對了,答案是:47\n",
      "你猜了6次\n",
      "遊戲結束\n"
     ]
    }
   ],
   "source": [
    "import random\n",
    "min = 1\n",
    "max = 100\n",
    "target = random.randint(min,max)\n",
    "count = 0\n",
    "\n",
    "print(\"============猜數字=======\\n\\n\")\n",
    "while True:\n",
    "    keyin = int (input(f\"猜數字範圍{min}~{max}:\"))\n",
    "    count +=1\n",
    "    if keyin >= min and keyin <=max:\n",
    "        if(keyin == target):\n",
    "            print(f\"賓果!猜對了,答案是:{target}\") \n",
    "            print(f\"你猜了{count}次\")\n",
    "            break\n",
    "        elif keyin > target:\n",
    "            print(\"再小一點\")\n",
    "            max = keyin-1\n",
    "        elif keyin < target:\n",
    "            print(\"再大一點\")\n",
    "            min = keyin+1\n",
    "        print(f\"您已經猜了{count}次\")\n",
    "    else:\n",
    "        print(\"請輸入提示範圍內的數字\")\n",
    "print (\"遊戲結束\")\n"
   ]
  }
 ],
 "metadata": {
  "kernelspec": {
   "display_name": "Python 3",
   "language": "python",
   "name": "python3"
  },
  "language_info": {
   "codemirror_mode": {
    "name": "ipython",
    "version": 3
   },
   "file_extension": ".py",
   "mimetype": "text/x-python",
   "name": "python",
   "nbconvert_exporter": "python",
   "pygments_lexer": "ipython3",
   "version": "3.10.12"
  },
  "orig_nbformat": 4
 },
 "nbformat": 4,
 "nbformat_minor": 2
}
