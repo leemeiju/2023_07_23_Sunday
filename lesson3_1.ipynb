{
 "cells": [
  {
   "cell_type": "code",
   "execution_count": 1,
   "metadata": {},
   "outputs": [
    {
     "name": "stdout",
     "output_type": "stream",
     "text": [
      "Hellow\n"
     ]
    }
   ],
   "source": [
    "print(\"Hellow\")"
   ]
  },
  {
   "cell_type": "code",
   "execution_count": 1,
   "metadata": {},
   "outputs": [
    {
     "data": {
      "text/plain": [
       "30"
      ]
     },
     "execution_count": 1,
     "metadata": {},
     "output_type": "execute_result"
    }
   ],
   "source": [
    "a=10\n",
    "b=20\n",
    "a+b"
   ]
  },
  {
   "cell_type": "code",
   "execution_count": 3,
   "metadata": {},
   "outputs": [],
   "source": [
    "#請使用者輸入梯形的上底、下底及高，程式會計算梯形的面積(上底家下底乘高)\n",
    "top=eval(input(\"請輸入梯形的上底(公分):\"))\n",
    "bottom = eval(input(\"請輸入梯形的下底(公分):\"))\n",
    "height= eval(input(\"請輸入梯形的高(公分):\"))\n",
    "area= (top+bottom)*height/2\n",
    "print(\"梯形的面積:\",area,\"平方公分\")\n"
   ]
  },
  {
   "cell_type": "code",
   "execution_count": 3,
   "metadata": {},
   "outputs": [
    {
     "name": "stdout",
     "output_type": "stream",
     "text": [
      "梯形的面積:55.00平方公分\n"
     ]
    }
   ],
   "source": [
    "#讓使用者輸入梯形的上底、下底及高，程式會計算梯形面積(上底加下底乘以高除以2)\n",
    "top = eval (input(\"請輸入梯形的上底(公分):\"))\n",
    "bottom= eval(input(\"請輸入梯形的下底(公分):\"))\n",
    "height = eval(input(\"請輸入梯形的高(公分):\"))\n",
    "area = (top+bottom)*height/2\n",
    "print(f\"梯形的面積:{area:.2f}平方公分\")"
   ]
  }
 ],
 "metadata": {
  "kernelspec": {
   "display_name": "Python 3",
   "language": "python",
   "name": "python3"
  },
  "language_info": {
   "codemirror_mode": {
    "name": "ipython",
    "version": 3
   },
   "file_extension": ".py",
   "mimetype": "text/x-python",
   "name": "python",
   "nbconvert_exporter": "python",
   "pygments_lexer": "ipython3",
   "version": "3.10.12"
  },
  "orig_nbformat": 4
 },
 "nbformat": 4,
 "nbformat_minor": 2
}
